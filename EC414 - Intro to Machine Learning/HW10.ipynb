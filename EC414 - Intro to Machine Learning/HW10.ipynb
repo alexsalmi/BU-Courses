{
 "cells": [
  {
   "cell_type": "markdown",
   "metadata": {},
   "source": [
    "**HW 10 - EC 414 - Prof. Kulis - Spring 2019**\n",
    "\n",
    "Due Wednesday, May 1st, 2019."
   ]
  },
  {
   "cell_type": "markdown",
   "metadata": {},
   "source": [
    "## Problem 1: Universal approximation power of ReLU networks\n",
    "\n",
    "A two layer NN with sigmoid activation function is a universal approximator, i.e: with sufficient hidden units, it can approximate any real function with desired accuracy. In this problem we want to demonstrate universal approximation power of NNs using ReLU activation units.\n",
    "\n",
    "**Q1.1** Show that by composing only 2 hidden units in a ReLU network $-\\sum_{i=1}^2a_i\\ max(0,b_ix+c_i) -$ we can build an approximation to the step function $1[x>0]$.  Write some code to showcase this.\n"
   ]
  },
  {
   "cell_type": "markdown",
   "metadata": {},
   "source": [
    "**Q1.2** Write some code to show that by composing 4 hidden units in a ReLU network, we can build an approximation to the unit impulse function of duration $\\delta$\n",
    "\n",
    "\\begin{equation}\n",
    "u_\\delta(x) = 1[0\\leq x\\leq \\delta]\n",
    "\\end{equation}"
   ]
  },
  {
   "cell_type": "markdown",
   "metadata": {},
   "source": [
    "**Q1.3** Using your approximator for the unit impulse function in Q1.2, write code to draw the approximator for different duration values $\\delta = [1,0.5,0.1]$."
   ]
  },
  {
   "cell_type": "code",
   "execution_count": 10,
   "metadata": {},
   "outputs": [
    {
     "data": {
      "image/png": "[encoded data removed]",
      "text/plain": [
       "<Figure size 432x288 with 1 Axes>"
      ]
     },
     "metadata": {
      "needs_background": "light"
     },
     "output_type": "display_data"
    },
    {
     "data": {
      "image/png": "[encoded data removed]",
      "text/plain": [
       "<Figure size 432x288 with 1 Axes>"
      ]
     },
     "metadata": {
      "needs_background": "light"
     },
     "output_type": "display_data"
    },
    {
     "data": {
      "image/png": "[encoded data removed]",
      "text/plain": [
       "<Figure size 432x288 with 1 Axes>"
      ]
     },
     "metadata": {
      "needs_background": "light"
     },
     "output_type": "display_data"
    }
   ],
   "source": [
    "import numpy as np\n",
    "import matplotlib.pyplot as plt\n",
    "\n",
    "# Write your code here:\n",
    "x = np.arange(-2, 2.1, 0.01)\n",
    "\n",
    "# Q1.1:\n",
    "ReLU = np.zeros((2,x.shape[0]))\n",
    "\n",
    "for i in range(x.shape[0]):\n",
    "    ReLU[0][i] = 100*max(0, x[i] - 0)\n",
    "    ReLU[1][i] = 100*max(0, x[i] - 0.01)\n",
    "stepFn = ReLU[0] - ReLU[1]\n",
    "\n",
    "plt.plot(x, stepFn)\n",
    "plt.title('Q1.1: Step Function')\n",
    "plt.show()\n",
    "\n",
    "#Q1.2:\n",
    "def unit_impulse(x, delta):\n",
    "    ReLU = np.zeros((4,x.shape[0]))\n",
    "\n",
    "    for i in range(x.shape[0]):\n",
    "        ReLU[0][i] = 100*max(0, x[i] - 0)\n",
    "        ReLU[1][i] = 100*max(0, x[i] - (0 + 0.01))\n",
    "        ReLU[2][i] = 100*max(0, x[i] - delta)\n",
    "        ReLU[3][i] = 100*max(0, x[i] - (delta + 0.01))\n",
    "        \n",
    "    return (ReLU[0] - ReLU[1]) - (ReLU[2] - ReLU[3])\n",
    "\n",
    "plt.plot(x, unit_impulse(x, 1.5))\n",
    "plt.title('Q1.2: Unit impulse with delta = 1.5')\n",
    "plt.show()\n",
    "\n",
    "#Q1.3:\n",
    "delta_1 = unit_impulse(x, 1)\n",
    "delta_05 = unit_impulse(x, 0.5)\n",
    "delta_01 = unit_impulse(x, 0.1)\n",
    "\n",
    "plt.plot(x, unit_impulse(x, 1), label='Delta = 1')\n",
    "plt.plot(x, unit_impulse(x, 0.5), label='Delta = 0.5')\n",
    "plt.plot(x, unit_impulse(x, 0.1), label='Delta = 0.1')\n",
    "plt.title('Q1.3: Unit impulse function')\n",
    "plt.legend()\n",
    "plt.show()\n",
    "\n"
   ]
  },
  {
   "cell_type": "markdown",
   "metadata": {},
   "source": [
    "## Problem 2: Backprop in a simple MLP\n",
    "Here, we ask you to derive all the steps of the backpropagation algorithm for a simple classification network. Consider a fully-connected neural network, also known as a multi-layer perceptron (MLP), with a single hidden layer and a one-node output layer. The hidden and output nodes use an elementwise sigmoid activation function and the loss layer uses cross-entropy loss:\n",
    "<p>\n",
    "$f(z)=\\frac{1}{1+exp(-z))}$\n",
    "<br>\n",
    "$L(\\hat{y},y)=-yln(\\hat{y}) - (1-y)ln(1-\\hat{y})$\n",
    "</p>\n",
    "<p>\n",
    "The computation graph for an example network is shown below. Note that it has an equal number of nodes in the input and hidden layer (3 each), but, in general, they need not be equal. Also, to make the application of backprop easier, we show the <i>computation graph</i> which shows the dot product and activation functions as their own nodes, rather than the usual graph showing a single node for both.\n",
    "</p>\n",
    "\n",
    "<img src=\"mlpgraph.png\" style=\"height:200px;\">\n",
    "\n",
    "The backpropagation algorithm for an MLP is displayed below. For simplicity, we will assume no regularization on the weights, so you can ignore the terms involving $\\Omega$. The forward step is: \n",
    "\n",
    "<img src=\"forward.png\" style=\"width:500px;\">\n",
    "\n",
    "and the backward step is:\n",
    "\n",
    "<img src=\"backward.png\" style=\"width:500px;\">"
   ]
  },
  {
   "cell_type": "markdown",
   "metadata": {},
   "source": [
    "Write down each step of the backward pass explicitly for all layers, i.e. for the loss and $k=2,1$, compute all gradients above, expressing them as a function of variables $x, y, h, W, b$. <i>Hint: you should substitute the updated values for the gradient $g$ in each step and simplify as much as possible.</i>  Specifically, compute the following (we have replaced the superscript notation $u^{(i)}$ with $u^i$):\n",
    "\n",
    "**Q2.1**: $\\nabla_{\\hat{y}}L(\\hat{y},y)$"
   ]
  },
  {
   "cell_type": "markdown",
   "metadata": {},
   "source": [
    "**Q2.2**: $\\nabla_{a^2}J$"
   ]
  },
  {
   "cell_type": "markdown",
   "metadata": {},
   "source": [
    "**Q2.3**: $\\nabla_{b^2}J$"
   ]
  },
  {
   "cell_type": "markdown",
   "metadata": {},
   "source": [
    "**Q2.4**: $\\nabla_{W^2}J$ <br><i>Hint: this should be a vector, since $W^2$ is a vector. </i>"
   ]
  },
  {
   "cell_type": "markdown",
   "metadata": {},
   "source": [
    "**Q2.5**: $\\nabla_{h^1}J$ "
   ]
  },
  {
   "cell_type": "markdown",
   "metadata": {},
   "source": [
    "**Q2.6**: $\\nabla_{b^1}J$, $\\nabla_{W^1}J$"
   ]
  },
  {
   "cell_type": "markdown",
   "metadata": {},
   "source": [
    "**Q2.7** Briefly, explain how would the computational speed of backpropagation be affected if it did not include a forward pass?"
   ]
  }
 ],
 "metadata": {
  "kernelspec": {
   "display_name": "Python 3",
   "language": "python",
   "name": "python3"
  },
  "language_info": {
   "codemirror_mode": {
    "name": "ipython",
    "version": 3
   },
   "file_extension": ".py",
   "mimetype": "text/x-python",
   "name": "python",
   "nbconvert_exporter": "python",
   "pygments_lexer": "ipython3",
   "version": "3.6.7"
  }
 },
 "nbformat": 4,
 "nbformat_minor": 2
}
