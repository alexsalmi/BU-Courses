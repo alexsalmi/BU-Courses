{
 "cells": [
  {
   "cell_type": "markdown",
   "metadata": {},
   "source": [
    "**EC 414 - Spring 2019**\n",
    "\n",
    "**HW 4 - QDA/LDA & Logistic Regression 1**\n",
    "\n",
    "Due:  Wednesday Feb 27 (In class)"
   ]
  },
  {
   "cell_type": "markdown",
   "metadata": {},
   "source": [
    "**1) Obtaining QDA & LDA Decision Rules: **\n",
    "\n",
    "In this problem, we will consider Quadratic and Linear Discriminant Analysis for $m$ classes where $y \\in \\{1,...,m \\}$ represents a class index. In class, we looked at the simple 2-class LDA. Using the MPE (Most Probable Explanation) rule: \n",
    "\n",
    "$h_{MPE} (\\boldsymbol{x})= \\text{argmax}_{y} p(y|\\boldsymbol{x},\\theta)$, \n",
    "\n",
    "obtain the QDA & LDA decision rules: \n",
    "\n",
    "$h_{QDA} (\\boldsymbol{x}) = \\text{argmin}_y [\\frac{1}{2} (\\boldsymbol{x}-\\boldsymbol{\\mu}_y)^T \\Sigma_y^{-1} (\\boldsymbol{x}-\\boldsymbol{\\mu}_y) + \\frac{1}{2} \\text{log} (\\text{det}(\\Sigma_y)) - \\text{log} (p(y))]$,\n",
    "\n",
    "$h_{LDA} (\\boldsymbol{x}) = \\text{argmax}_y [(\\boldsymbol{\\mu}_y^T \\Sigma^{-1} ) \\cdot \\boldsymbol{x} - \\frac{1}{2} \\boldsymbol{\\mu}_y^T \\Sigma^{-1} \\boldsymbol{\\mu}_y + \\text{log}(p(y))]$.\n",
    "\n",
    "Please show all intermediate steps in your analysis. As a tip, it may be expedient to use Bayes Rule in your analysis along with the fact that, for QDA:\n",
    "\n",
    "$p(\\boldsymbol{x}|y,\\theta) = N(\\boldsymbol{\\mu}_y,\\Sigma_y)(\\boldsymbol{x}) = \\frac{1}{((2 \\pi)^d \\text{ det}(\\Sigma_y))^{1/2}} e^{- \\frac{1}{2} (\\boldsymbol{x}-\\boldsymbol{\\mu}_y)^T \\Sigma_y^{-1} (\\boldsymbol{x}-\\boldsymbol{\\mu}_y)}$, \n",
    "\n",
    "and for LDA:\n",
    "\n",
    "$ \\Sigma_y = \\Sigma \\text{ } \\forall \\text{ } y \\in \\{1,...,m \\}$.\n",
    "\n",
    "Also, assume that $\\Sigma$ is symmetric.\n",
    "\n"
   ]
  },
  {
   "cell_type": "markdown",
   "metadata": {},
   "source": [
    "Finding QDA Decision Rule:\n",
    "\n",
    "$h_{MPE} (\\boldsymbol{x})= \\text{argmax}_{y} p(y|\\boldsymbol{x},\\theta)$\n",
    "\n",
    "$=> \\text{argmax}_{y} [\\frac{1}{((2 \\pi)^d \\text{ det}(\\Sigma_y))^{1/2}} e^{- \\frac{1}{2} (\\boldsymbol{x}-\\boldsymbol{\\mu}_y)^T \\Sigma_y^{-1} (\\boldsymbol{x}-\\boldsymbol{\\mu}_y)}]$ From given formula\n",
    "\n",
    "$=> \\text{argmax}_{y} [\\text{log}(\\frac{1}{((2 \\pi)^d \\text{ det}(\\Sigma_y))^{1/2}}) \\text{log}(e^{- \\frac{1}{2} (\\boldsymbol{x}-\\boldsymbol{\\mu}_y)^T \\Sigma_y^{-1} (\\boldsymbol{x}-\\boldsymbol{\\mu}_y)})]$ Take log\n",
    "\n",
    "$=> \\text{argmax}_{y} [\\text{log}(1) - \\text{log}(((2 \\pi)^d \\text{ det}(\\Sigma_y))^{1/2}) - \\frac{1}{2} (\\boldsymbol{x}-\\boldsymbol{\\mu}_y)^T \\Sigma_y^{-1} (\\boldsymbol{x}-\\boldsymbol{\\mu}_y)]$ Simplify\n",
    "\n",
    "$=> \\text{argmax}_{y} [\\text{log}(\\frac{1}{(2 \\pi)^d}) - \\frac{1}{2}\\text{log}(\\text{ det}(\\Sigma_y)) - \\frac{1}{2} (\\boldsymbol{x}-\\boldsymbol{\\mu}_y)^T \\Sigma_y^{-1} (\\boldsymbol{x}-\\boldsymbol{\\mu}_y)]$ Simplify\n",
    "\n",
    "$=> \\text{argmax}_{y} [\\text{log} (p(y)) - \\frac{1}{2}\\text{log}(\\text{ det}(\\Sigma_y)) - \\frac{1}{2} (\\boldsymbol{x}-\\boldsymbol{\\mu}_y)^T \\Sigma_y^{-1} (\\boldsymbol{x}-\\boldsymbol{\\mu}_y)]$ p(y)\n",
    "\n",
    "$=> \\text{argmin}_y [\\frac{1}{2} (\\boldsymbol{x}-\\boldsymbol{\\mu}_y)^T \\Sigma_y^{-1} (\\boldsymbol{x}-\\boldsymbol{\\mu}_y) + \\frac{1}{2} \\text{log} (\\text{det}(\\Sigma_y)) - \\text{log} (p(y))]$ Invert signs and change to argmin\n",
    "\n",
    "$h_{QDA} (\\boldsymbol{x}) = \\text{argmin}_y [\\frac{1}{2} (\\boldsymbol{x}-\\boldsymbol{\\mu}_y)^T \\Sigma_y^{-1} (\\boldsymbol{x}-\\boldsymbol{\\mu}_y) + \\frac{1}{2} \\text{log} (\\text{det}(\\Sigma_y)) - \\text{log} (p(y))]$\n",
    "\n",
    "\n",
    "\n",
    "\n",
    "Continuing from here to find LDA Decision Rule:\n",
    "\n",
    "$= \\text{argmin}_y [\\frac{1}{2} (\\boldsymbol{x}-\\boldsymbol{\\mu}_y)^T \\Sigma^{-1} (\\boldsymbol{x}-\\boldsymbol{\\mu}_y) - \\text{log} (p(y))]$ Since $\\Sigma_y$ is now same for all y, we can treat it as a constant\n",
    "\n",
    "$= \\text{argmax}_y [\\text{log} (p(y)) - \\frac{1}{2} (\\boldsymbol{x}-\\boldsymbol{\\mu}_y)^T \\Sigma^{-1} (\\boldsymbol{x}-\\boldsymbol{\\mu}_y)]$ Invert signs to change to argmax\n",
    "\n",
    "$= \\text{argmax}_y [\\text{log} (p(y)) - \\frac{1}{2} (\\boldsymbol{x}^T\\Sigma^{-1}\\boldsymbol{x} + \\boldsymbol{\\mu}_y^T\\Sigma^{-1}\\boldsymbol{\\mu}_y) + \\boldsymbol{x}^T\\Sigma^{-1}\\boldsymbol{\\mu}_y]$ Expand\n",
    "\n",
    "$= \\text{argmax}_y [\\text{log} (p(y)) - \\frac{1}{2} \\boldsymbol{\\mu}_y^T\\Sigma^{-1}\\boldsymbol{\\mu}_y + \\boldsymbol{x}^T\\Sigma^{-1}\\boldsymbol{\\mu}_y]$ Ignore everything that does not depend on y\n",
    "\n",
    "$= \\text{argmax}_y [(\\boldsymbol{\\mu}_y^T \\Sigma^{-1} ) \\cdot \\boldsymbol{x} - \\frac{1}{2} \\boldsymbol{\\mu}_y^T \\Sigma^{-1} \\boldsymbol{\\mu}_y + \\text{log}(p(y))]$ Rearrange\n",
    "\n",
    "$h_{LDA} (\\boldsymbol{x}) = \\text{argmax}_y [(\\boldsymbol{\\mu}_y^T \\Sigma^{-1} ) \\cdot \\boldsymbol{x} - \\frac{1}{2} \\boldsymbol{\\mu}_y^T \\Sigma^{-1} \\boldsymbol{\\mu}_y + \\text{log}(p(y))]$"
   ]
  },
  {
   "cell_type": "markdown",
   "metadata": {},
   "source": [
    "**2) Implementation of LDA**\n",
    "\n",
    "In this problem, we will explore the implementation and application of LDA on an artificial dataset. Using any built in Python command/function for LDA in this problem is prohibited.  "
   ]
  },
  {
   "cell_type": "markdown",
   "metadata": {},
   "source": [
    "a) Generate $3$ $2$D Gaussian clusters of data with the following means and covariances:\n",
    "\n",
    "$\\boldsymbol{\\mu}_1 = [2,2]^T, \\boldsymbol{\\mu}_2 = [-7,-7]^T, \\boldsymbol{\\mu}_3 = [-8,-1]^T$,\n",
    "\n",
    "$\\Sigma = [[0.5,0];[0,0.5]]$.\n",
    "\n",
    "Let each cluster of data have $500$ points. Plot the generated Gaussian data."
   ]
  },
  {
   "cell_type": "code",
   "execution_count": 2,
   "metadata": {},
   "outputs": [
    {
     "data": {
      "image/png": "[encoded data removed]",
      "text/plain": [
       "<Figure size 432x288 with 1 Axes>"
      ]
     },
     "metadata": {
      "needs_background": "light"
     },
     "output_type": "display_data"
    }
   ],
   "source": [
    "# Write code here:\n",
    "import numpy as np\n",
    "from matplotlib import pyplot as plt\n",
    "\n",
    "mean1 = [2, 2]\n",
    "mean2 = [-7, -7]\n",
    "mean3 = [-8, -1]\n",
    "cov = [[0.5, 0], [0, 0.5]]\n",
    "\n",
    "u1 = np.random.multivariate_normal(mean1, cov, 500).T\n",
    "u2 = np.random.multivariate_normal(mean2, cov, 500).T\n",
    "u3 = np.random.multivariate_normal(mean3, cov, 500).T\n",
    "\n",
    "plt.plot(u1[0], u1[1], 'bx', u2[0], u2[1], 'gx', u3[0], u3[1], 'rx')\n",
    "plt.title('Visualizing Gaussian Data')\n",
    "plt.xlabel('X')\n",
    "plt.ylabel('Y')\n",
    "plt.grid(True)\n",
    "plt.axis([-14.5, 8, -9.5, 4.5])\n",
    "plt.show()"
   ]
  },
  {
   "cell_type": "markdown",
   "metadata": {},
   "source": [
    "b) Randomly split all the data and labels into training and testing sets using an $85\\%$/$15\\%$  train/test split. "
   ]
  },
  {
   "cell_type": "code",
   "execution_count": 3,
   "metadata": {},
   "outputs": [],
   "source": [
    "# Write code here:\n",
    "from sklearn.model_selection import train_test_split\n",
    "\n",
    "X = np.concatenate((u1.T, u2.T, u3.T))\n",
    "\n",
    "y1 = np.ones(500, dtype=int)\n",
    "y2 = np.ones(500, dtype=int) * 2\n",
    "y3 = np.ones(500, dtype=int) * 3\n",
    "y = np.concatenate((y1, y2, y3))\n",
    "\n",
    "X_train, X_test, y_train, y_test = train_test_split(X, y, test_size = 0.15)"
   ]
  },
  {
   "cell_type": "markdown",
   "metadata": {},
   "source": [
    "c) Obtain the necessary parameter values for ($\\widehat{\\boldsymbol{\\mu}}_y \\text{ } \\forall \\text{ } y$,$\\widehat{\\Sigma}$,$\\widehat{p}(y)$) used for obtaining the LDA decision rule derived in Q$1$.  As a reminder, the preceding values can be obtained as:\n",
    "\n",
    "$\\widehat{p}(y) = \\frac{n_y}{n}$,\n",
    "\n",
    "$\\widehat{\\boldsymbol{\\mu}}_y = \\frac{1}{n_y} \\sum_{i \\in \\{ 1,...,n\\}: y = y_j} \\boldsymbol{x}_i$,\n",
    "\n",
    "$\\widehat{\\Sigma} = \\frac{1}{n} \\sum_{i=1}^n (\\boldsymbol{x}_i-\\widehat{\\boldsymbol{\\mu}}_{y_i})(\\boldsymbol{x}_i-\\widehat{\\boldsymbol{\\mu}}_{y_i})^T$,\n",
    "\n",
    "where $n$ is the number of training data points and $n_y$ is the number of occurrences of class $y$ in the training set. \n",
    "\n",
    "Please display the resulting values of the preceding variables using print statements.  "
   ]
  },
  {
   "cell_type": "code",
   "execution_count": 4,
   "metadata": {},
   "outputs": [
    {
     "name": "stdout",
     "output_type": "stream",
     "text": [
      "p: \n",
      "[0.33411765 0.3372549  0.32862745]\n",
      "Empirical means:\n",
      "[[ 2.03485582  2.01143334]\n",
      " [-7.00286256 -7.0250322 ]\n",
      " [-8.03446872 -0.97220762]]\n",
      "Covariance matrix:\n",
      "[[ 0.48987371 -0.01903884]\n",
      " [-0.01903884  0.50238364]]\n"
     ]
    }
   ],
   "source": [
    "# Write code here:\n",
    "counts = np.zeros(3)\n",
    "p = np.zeros(3)\n",
    "for n in y_train:\n",
    "    counts[n-1] = counts[n-1] + 1\n",
    "p = counts/y_train.shape[0]\n",
    "print('p: ')\n",
    "print(p)\n",
    "\n",
    "means = np.zeros((3, 2))\n",
    "for i in range(y_train.shape[0]):\n",
    "    means[y_train[i]-1] = means[y_train[i]-1] + X_train[i]\n",
    "for j in range(means.shape[0]):\n",
    "    means[j] = means[j] / counts[j]   \n",
    "print('Empirical means:')\n",
    "print(means)\n",
    "\n",
    "cov = np.zeros((2, 2))\n",
    "for i in range(y_train.shape[0]):\n",
    "    y_mean = [means[y_train[i]-1]]\n",
    "    temp_cov = X_train[i] - y_mean\n",
    "    cov = cov + (temp_cov*temp_cov.T)\n",
    "cov = cov / X_train.shape[0]\n",
    "print('Covariance matrix:')\n",
    "print(cov)"
   ]
  },
  {
   "cell_type": "markdown",
   "metadata": {},
   "source": [
    "d) Since we know ($\\widehat{\\boldsymbol{\\mu}}_y \\text{ } \\forall \\text{ } y$,$\\widehat{\\Sigma}$,$\\widehat{p}(y)$), we can in turn obtain the LDA decision rule. Let:\n",
    "\n",
    "$\\boldsymbol{\\beta}_y = \\Sigma^{-1} \\boldsymbol{\\mu}_y $,\n",
    "\n",
    "$\\alpha_y = - \\frac{1}{2} \\boldsymbol{\\mu}_y^T \\Sigma^{-1} \\boldsymbol{\\mu}_y + \\text{log}(p(y))$;\n",
    "\n",
    "with this, the LDA decision rule can be re-expressed as:\n",
    "\n",
    "$h_{LDA} (\\boldsymbol{x}) = \\text{argmax}_y \\text{ } \\boldsymbol{\\beta}_y^T \\boldsymbol{x} + \\alpha_y$.  \n",
    "\n",
    "The objective function in the preceding equation basically projects $\\boldsymbol{x}$ into $1$ dimension and offsets it.  \n",
    "\n",
    "Obtain and display the values of $\\boldsymbol{\\beta}_y \\forall y$ and $\\alpha_y \\forall y$ using print statements."
   ]
  },
  {
   "cell_type": "code",
   "execution_count": 5,
   "metadata": {},
   "outputs": [
    {
     "name": "stdout",
     "output_type": "stream",
     "text": [
      "Beta:\n",
      "[[  4.31580017   4.16733545]\n",
      " [-14.86059009 -14.54657347]\n",
      " [-16.50061581  -2.5605137 ]]\n",
      "Alpha:\n",
      "[[  -9.6784364 ]\n",
      " [-104.21532475]\n",
      " [ -68.64434681]]\n"
     ]
    }
   ],
   "source": [
    "# Write code here:\n",
    "beta = np.zeros((3,2))\n",
    "cov_inv = np.linalg.inv(cov)\n",
    "\n",
    "for i in range(beta.shape[0]):\n",
    "    beta[i] = np.matmul(cov_inv, means[i])\n",
    "print('Beta:')\n",
    "print(beta)\n",
    "\n",
    "alpha = np.zeros((3,1))\n",
    "for i in range(alpha.shape[0]):\n",
    "    alpha[i] = -0.5*np.matmul(means[i].T,np.matmul(cov_inv,means[i])) + np.log(p[i])\n",
    "print('Alpha:')\n",
    "print(alpha)"
   ]
  },
  {
   "cell_type": "markdown",
   "metadata": {},
   "source": [
    "e) Using the derived LDA decision rule, obtain and display the Correct Classification Rates (CCR) for the training and testing sets. Also, explain the resulting CCRs."
   ]
  },
  {
   "cell_type": "code",
   "execution_count": 6,
   "metadata": {},
   "outputs": [
    {
     "name": "stdout",
     "output_type": "stream",
     "text": [
      "LDA - Train CCR:  1.0\n",
      "LDA - Test CCR:  1.0\n"
     ]
    }
   ],
   "source": [
    " # Write code here:\n",
    "def h_LDA(x):\n",
    "    argmax = -100000\n",
    "    y_max = 0\n",
    "    for i in range(beta.shape[0]):\n",
    "        argy = np.matmul(beta[i].T, x) + alpha[i]\n",
    "        if argy > argmax:\n",
    "            argmax = argy\n",
    "            y_max = i+1\n",
    "    return y_max\n",
    "\n",
    "correct_train = 0\n",
    "for i in range(y_train.shape[0]):\n",
    "    if h_LDA(X_train[i]) == y_train[i]:\n",
    "        correct_train = correct_train + 1\n",
    "CCR_train = correct_train / y_train.shape[0]\n",
    "print('LDA - Train CCR: ', CCR_train)\n",
    "\n",
    "correct_test = 0\n",
    "for i in range(y_test.shape[0]):\n",
    "    if h_LDA(X_test[i]) == y_test[i]:\n",
    "        correct_test = correct_test + 1\n",
    "CCR_test = correct_test / y_test.shape[0]\n",
    "print('LDA - Test CCR: ', CCR_test)"
   ]
  },
  {
   "cell_type": "markdown",
   "metadata": {},
   "source": [
    "The CCR's for the training and testing sets are both 1.0 because the three generated data classes are very separated from each other, making it very easy to get the correct LDA for all of the generated data"
   ]
  },
  {
   "cell_type": "markdown",
   "metadata": {},
   "source": [
    "f) Here, we will test our LDA classifier on $5$ new data points:\n",
    "    \n",
    "$\\boldsymbol{x}_1 = [10,10]^T,\\boldsymbol{x}_2 = [-10,10]^T,\\boldsymbol{x}_3 = [-10,-10]^T,\\boldsymbol{x}_4 = [10,-10]^T,\\boldsymbol{x}_5 = [0,0]^T$\n",
    "\n",
    "Plot these new test points along with the original Gaussian data on a new figure. For each new test point, compute the score of the test point belonging to class $y \\text{ } \\forall \\text{ } y \\in \\{1,...,m \\}$ as:  $\\text{score}_y = \\boldsymbol{\\beta}_y^T \\boldsymbol{x} + \\alpha_y$ and display the scores using print statements.  \n",
    "\n",
    "Describe the resulting scores and rationalize why they make sense based on proximity of a new test point to a certain data cluster.   "
   ]
  },
  {
   "cell_type": "code",
   "execution_count": 7,
   "metadata": {},
   "outputs": [
    {
     "data": {
      "image/png": "[encoded data removed]",
      "text/plain": [
       "<Figure size 432x288 with 1 Axes>"
      ]
     },
     "metadata": {
      "needs_background": "light"
     },
     "output_type": "display_data"
    },
    {
     "name": "stdout",
     "output_type": "stream",
     "text": [
      "KEY: Blue - 1, Green - 2, Red - 3\n",
      "\n",
      "[[ 10  10]\n",
      " [-10  10]\n",
      " [-10 -10]\n",
      " [ 10 -10]\n",
      " [  0   0]]\n",
      "[[  75.1529198  -398.28696035 -259.25564195]\n",
      " [ -11.16308369 -101.07515847   70.75667423]\n",
      " [ -94.5097926   189.85631085  121.96694832]\n",
      " [  -8.19378911 -107.35549103 -208.04536786]\n",
      " [  -9.6784364  -104.21532475  -68.64434681]]\n"
     ]
    }
   ],
   "source": [
    "# Write code here:\n",
    "newpts = [[10,10], [-10,10], [-10,-10], [10,-10], [0,0]]\n",
    "newpts = np.transpose(newpts)\n",
    "\n",
    "plt.plot(u1[0], u1[1], 'bx', u2[0], u2[1], 'gx', u3[0], u3[1], 'rx', newpts[0], newpts[1], 'm*')\n",
    "plt.title('Gaussian Data + New Data')\n",
    "plt.xlabel('X')\n",
    "plt.ylabel('Y')\n",
    "plt.grid(True)\n",
    "plt.axis([-17, 16.5, -11, 11])\n",
    "plt.show()\n",
    "\n",
    "print('KEY: Blue - 1, Green - 2, Red - 3\\n')\n",
    "newpts = np.transpose(newpts)\n",
    "print(newpts)\n",
    "\n",
    "scores = np.zeros((5, 3))\n",
    "for i in range(newpts.shape[0]):\n",
    "    for j in range(beta.shape[0]):\n",
    "        scores[i][j] = np.matmul(beta[j].T, newpts[i]) + alpha[j]\n",
    "\n",
    "print(scores)"
   ]
  },
  {
   "cell_type": "markdown",
   "metadata": {},
   "source": [
    "**3) Logistic Regression**"
   ]
  },
  {
   "cell_type": "markdown",
   "metadata": {},
   "source": [
    "In this problem, we will implement Logistic Regression using the built in capability (from sklearn).\n",
    "\n",
    "Form a Logistic Regression classifer using the training data from Q$2$ and apply it to the training and testing sets from Q$2$. Obtain the CCRs for the training and testing sets; also, explain the resulting CCRs. "
   ]
  },
  {
   "cell_type": "code",
   "execution_count": 8,
   "metadata": {},
   "outputs": [
    {
     "name": "stdout",
     "output_type": "stream",
     "text": [
      "LDA - Train CCR:  1.0\n",
      "LDA - Test CCR:  1.0\n"
     ]
    }
   ],
   "source": [
    "from sklearn.linear_model import LogisticRegression\n",
    "\n",
    "# Write code here:\n",
    "LR = LogisticRegression(solver='lbfgs', multi_class='multinomial')\n",
    "LR.fit(X_train, y_train)\n",
    "\n",
    "correct_train = 0\n",
    "for i in range(y_train.shape[0]):\n",
    "    if LR.predict([X_train[i]]) == y_train[i]:\n",
    "        correct_train = correct_train + 1\n",
    "CCR_train = correct_train / y_train.shape[0]\n",
    "print('LDA - Train CCR: ', CCR_train)\n",
    "\n",
    "correct_test = 0\n",
    "for i in range(y_test.shape[0]):\n",
    "    if LR.predict([X_test[i]]) == y_test[i]:\n",
    "        correct_test = correct_test + 1\n",
    "CCR_test = correct_test / y_test.shape[0]\n",
    "print('LDA - Test CCR: ', CCR_test)"
   ]
  },
  {
   "cell_type": "markdown",
   "metadata": {},
   "source": [
    "Just like in Q2, the CCR's for the training and testing sets are both 1.0 because the three generated data classes are very separated from each other, making it very easy to get the correct LDA for all of the generated data"
   ]
  }
 ],
 "metadata": {
  "kernelspec": {
   "display_name": "Python 3",
   "language": "python",
   "name": "python3"
  },
  "language_info": {
   "codemirror_mode": {
    "name": "ipython",
    "version": 3
   },
   "file_extension": ".py",
   "mimetype": "text/x-python",
   "name": "python",
   "nbconvert_exporter": "python",
   "pygments_lexer": "ipython3",
   "version": "3.7.2"
  }
 },
 "nbformat": 4,
 "nbformat_minor": 2
}
